{
 "cells": [
  {
   "cell_type": "markdown",
   "metadata": {},
   "source": [
    "# Homework 2\n",
    "\n",
    "***"
   ]
  },
  {
   "cell_type": "markdown",
   "metadata": {},
   "source": [
    "** _**Note: To avoid confusing myself, I'm going to relabel the equation $\\ \\phi(t,\\theta,\\phi)\\ \\rightarrow\\ f(t,\\theta,\\phi)$**_"
   ]
  },
  {
   "cell_type": "markdown",
   "metadata": {},
   "source": [
    "> **a)** Numerically implement the discretiation of $f$ in terms of spherical harmonics."
   ]
  },
  {
   "cell_type": "markdown",
   "metadata": {},
   "source": [
    "In order to discretize $f$ in terms of spherical harmonics, we want to calculate the following:\n",
    "\n",
    "$$f(\\theta,\\phi) = \\sum_{l=0}^{\\infty}\\sum_{m=-l}^l{c^{lm}}Y_{lm}(\\theta,\\phi)$$\n",
    "\n",
    "where the coefficients $c^{lm}$ are found by calculating\n",
    "\n",
    "$$c^{lm} = \\int_0^{2\\pi}\\mathrm{d}\\phi\\int_0^{\\pi}\\mathrm{d}\\theta f(\\theta,\\phi)Y^*_{lm}(\\theta,\\phi)\\sin{\\theta}$$"
   ]
  },
  {
   "cell_type": "code",
   "execution_count": 1,
   "metadata": {},
   "outputs": [],
   "source": [
    "using SphericalHarmonics\n",
    "using HCubature\n",
    "using DifferentialEquations\n",
    "using Plots"
   ]
  },
  {
   "cell_type": "markdown",
   "metadata": {},
   "source": [
    "We can obtain a vector of all $c^{lm}$ coefficients using the `HCubature` and `SphericalHarmonics` packages:"
   ]
  },
  {
   "cell_type": "code",
   "execution_count": 2,
   "metadata": {},
   "outputs": [
    {
     "data": {
      "text/plain": [
       "expand_f (generic function with 1 method)"
      ]
     },
     "metadata": {},
     "output_type": "display_data"
    }
   ],
   "source": [
    "# Convert SHArray object to vector\n",
    "Ylm_array(sharray) = [ y for y in sharray ]\n",
    "\n",
    "# Integrate over θ and ϕ to get c_lm coefficients\n",
    "c_vector(f, lmax) = hcubature(x -> integrand(f, lmax, x), [0, 0], [π, 2*π])[1]\n",
    "\n",
    "# Calculate the integrand to be passed into hcubature()\n",
    "function integrand(f, lmax, x)\n",
    "    # x = (θ, ϕ)\n",
    "\n",
    "    # Use SphericalHarmonics pacakge to calculate Y_lm(θ, ϕ)^*\n",
    "    sharray = computeYlm(x[1], x[2], lmax=lmax)\n",
    "    ylm_conj = conj(Ylm_array(sharray))\n",
    "    \n",
    "    # f(θ, ϕ) * conj(Y_lm(θ, ϕ)) * sin(θ)\n",
    "    return f(x[1], x[2]) * ylm_conj * sin(x[1])\n",
    "end\n",
    "\n",
    "# Use c_lm coefficients to calculate f(θ, ϕ)\n",
    "function expand_f(c_vector, θ, ϕ, lmax)\n",
    "    # Ylm(θ, ϕ)\n",
    "    sharray = computeYlm(θ, ϕ, lmax=lmax)\n",
    "    ylm = Ylm_array(sharray)\n",
    "\n",
    "    # f(θ, ϕ) = Σ_lm( c_lm * Y_lm(θ, ϕ) )\n",
    "    return round(sum(c_vector .* ylm), digits=4)\n",
    "end"
   ]
  },
  {
   "cell_type": "markdown",
   "metadata": {},
   "source": [
    "> **b)** Use an initial condition that is peaked around the North Pole, i.e., that looks similar to a Gaussian with a width equal to 0.2. (The exact initial condition does not matter)."
   ]
  },
  {
   "cell_type": "markdown",
   "metadata": {},
   "source": [
    "To apply the initial condition peaked at the North Pole, we state that at time $t=0$ we have a Gaussian that peaks for all values of $\\phi$ when $\\theta=0$ (additionally, we can set $\\psi_0 = 0$):\n",
    "\n",
    "$$f(t=0, \\theta, \\phi) \\equiv f_0(\\theta) = e^{-\\frac{\\theta^2}{2*0.2^2}} = e^{-\\frac{\\theta^2}{0.08}}$$\n",
    "\n",
    "$$\\psi_0 = 0$$"
   ]
  },
  {
   "cell_type": "markdown",
   "metadata": {},
   "source": [
    "To find the corresponding coefficient vectors at $t=0$:"
   ]
  },
  {
   "cell_type": "code",
   "execution_count": 3,
   "metadata": {},
   "outputs": [
    {
     "data": {
      "text/plain": [
       "c_ψ0_init (generic function with 1 method)"
      ]
     },
     "metadata": {},
     "output_type": "display_data"
    }
   ],
   "source": [
    "# f_0(θ) = exp(-θ^2/0.08)\n",
    "c_f0_init(lmax) = c_vector((θ, ϕ) -> exp(-θ^2/0.08), lmax)\n",
    "\n",
    "# ψ_0 = 0\n",
    "c_ψ0_init(lmax) = c_vector((θ, ϕ) -> 0, lmax)"
   ]
  },
  {
   "cell_type": "markdown",
   "metadata": {},
   "source": [
    "> **c)** Evolve the system in time to see from $\\ t=0\\ $ to $\\ t=10\\ $ using your favorite ODE integrator. The resulting evolution should look similar to water waves moving on the surface of a pond, except that the pond is the surface of a sphere."
   ]
  },
  {
   "cell_type": "markdown",
   "metadata": {},
   "source": [
    "We will now make use of the following to set up our system:\n",
    "\n",
    "$$\\partial_tf = \\psi \\quad\\rightarrow\\quad \\partial_tc^{lm}_f = c^{lm}_{\\psi}$$\n",
    "$$\\partial_t\\psi = \\Delta f \\quad\\rightarrow\\quad \\partial_t c^{lm}_{\\psi} = \\Delta c^{lm}_f = -l(l+1)c^{lm}_f$$"
   ]
  },
  {
   "cell_type": "markdown",
   "metadata": {},
   "source": [
    "With this in mind, our set of ODEs for all $c^{lm}_f$, $c^{lm}_{\\psi}$ will use the following function to record each set of values over time. `Udot()` takes in the flattened array of ($c^{lm}_f$, $c^{lm}_{\\psi}$) and returns the corresponding ($\\dot{c}^{lm}_f$, $\\dot{c}^{lm}_{\\psi}$)."
   ]
  },
  {
   "cell_type": "code",
   "execution_count": 4,
   "metadata": {},
   "outputs": [
    {
     "data": {
      "text/plain": [
       "Udot (generic function with 1 method)"
      ]
     },
     "metadata": {},
     "output_type": "display_data"
    }
   ],
   "source": [
    "function Udot(U, lmax)\n",
    "    # U = vcat(c_f, c_ψ)\n",
    "    \n",
    "    # Separate our individual coefficient vectors\n",
    "    n = round(Int, length(U)/2)\n",
    "    c_f = U[1:n]\n",
    "    c_ψ = U[n+1:end]\n",
    "    \n",
    "    # We already have ∂_t(c_f) = c_ψ\n",
    "    c_fdot = c_ψ\n",
    "\n",
    "    # Build a new vector containing coefficients ∂_t(c_ψ) = Δc_f = -l(l+1)c_f\n",
    "    c_ψdot = Vector{ComplexF64}([])\n",
    "    i = 1\n",
    "    for l in 0:lmax\n",
    "        for m in -l:l\n",
    "            push!(c_ψdot, -l*(l+1)*c_f[i])\n",
    "            i+=1\n",
    "        end\n",
    "    end\n",
    "    \n",
    "    # Recombine the two vectors\n",
    "    return vcat(c_fdot, c_ψdot)\n",
    "end"
   ]
  },
  {
   "cell_type": "markdown",
   "metadata": {},
   "source": [
    "Then, using the `DifferentialEquations` package to find our solution for a given $\\ l_{max}$:"
   ]
  },
  {
   "cell_type": "code",
   "execution_count": 5,
   "metadata": {},
   "outputs": [
    {
     "data": {
      "text/plain": [
       "solve_ode (generic function with 1 method)"
      ]
     },
     "metadata": {},
     "output_type": "display_data"
    }
   ],
   "source": [
    "function solve_ode(lmax, tmax)\n",
    "    # Generate initial coefficients\n",
    "    c_f0 = c_f0_init(lmax)\n",
    "    c_ψ0 = c_ψ0_init(lmax)\n",
    "    \n",
    "    c_f0 = [ round(x, digits=5) for x in c_f0 ]\n",
    "    c_ψ0 = [ round(x, digits=5) for x in c_ψ0 ]\n",
    "\n",
    "    U0 = vcat(c_f0, c_ψ0)\n",
    "\n",
    "    # Pass our initial values and Udot() into the package's ODEProblem() function and solve\n",
    "    prob = ODEProblem((U, p, t) -> Udot(U, lmax), U0, (0.0, tmax))\n",
    "    sol = solve(prob)\n",
    "\n",
    "    # Round output data to make our lives easier\n",
    "    ts = [ round(t, digits=5) for t in sol.t ]\n",
    "    us = [ [ round(c, digits=5) for c in u ] for u in sol.u ]\n",
    "\n",
    "    return ts, us\n",
    "end"
   ]
  },
  {
   "cell_type": "markdown",
   "metadata": {},
   "source": [
    "Putting everything together, let's look at an example case with $\\ l_{max} = 2\\ $ from $\\ t=0\\ $ to $\\ t=5$:"
   ]
  },
  {
   "cell_type": "code",
   "execution_count": 6,
   "metadata": {},
   "outputs": [
    {
     "name": "stdout",
     "output_type": "stream",
     "text": [
      "0.0   ComplexF64[0.06996 + 0.0im, 0.11645 + 0.0im, 0.0 + 0.0im, 0.13886 + 0.0im, 0.0 - 0.0im, 0.0 + 0.0im, 0.0 + 0.0im, 0.0 + 0.0im, 0.0 + 0.0im]\n",
      "0.00198   ComplexF64[0.06996 + 0.0im, 0.11645 + 0.0im, 0.0 + 0.0im, 0.13886 + 0.0im, 0.0 + 0.0im, 0.0 + 0.0im, 0.0 + 0.0im, 0.0 + 0.0im, 0.0 + 0.0im]\n",
      "0.02181   ComplexF64[0.06996 + 0.0im, 0.11639 + 0.0im, 0.0 + 0.0im, 0.13866 + 0.0im, 0.0 + 0.0im, 0.0 + 0.0im, 0.0 + 0.0im, 0.0 + 0.0im, 0.0 + 0.0im]\n",
      "0.13589   ComplexF64[0.06996 + 0.0im, 0.11431 + 0.0im, 0.0 + 0.0im, 0.13124 + 0.0im, 0.0 + 0.0im, 0.0 + 0.0im, 0.0 + 0.0im, 0.0 + 0.0im, 0.0 + 0.0im]\n",
      "0.36591   ComplexF64[0.06996 + 0.0im, 0.1012 + 0.0im, 0.0 + 0.0im, 0.08672 + 0.0im, 0.0 + 0.0im, 0.0 + 0.0im, 0.0 + 0.0im, 0.0 + 0.0im, 0.0 + 0.0im]\n",
      "0.67426   ComplexF64[0.06996 + 0.0im, 0.0674 + 0.0im, 0.0 + 0.0im, -0.01121 + 0.0im, 0.0 + 0.0im, 0.0 + 0.0im, 0.0 + 0.0im, 0.0 + 0.0im, 0.0 + 0.0im]\n",
      "0.99982   ComplexF64[0.06996 + 0.0im, 0.01819 + 0.0im, 0.0 + 0.0im, -0.10687 + 0.0im, 0.0 + 0.0im, 0.0 + 0.0im, 0.0 + 0.0im, 0.0 + 0.0im, 0.0 + 0.0im]\n",
      "1.3867   ComplexF64[0.06996 + 0.0im, -0.04431 + 0.0im, 0.0 + 0.0im, -0.13437 + 0.0im, 0.0 + 0.0im, 0.0 + 0.0im, 0.0 + 0.0im, 0.0 + 0.0im, 0.0 + 0.0im]\n",
      "1.78586   ComplexF64[0.06996 + 0.0im, -0.09505 + 0.0im, 0.0 + 0.0im, -0.04604 + 0.0im, 0.0 + 0.0im, 0.0 + 0.0im, 0.0 + 0.0im, 0.0 + 0.0im, 0.0 + 0.0im]\n",
      "2.24186   ComplexF64[0.06996 + 0.0im, -0.1164 + 0.0im, 0.0 + 0.0im, 0.09756 + 0.0im, 0.0 + 0.0im, 0.0 + 0.0im, 0.0 + 0.0im, 0.0 + 0.0im, 0.0 + 0.0im]\n",
      "2.69563   ComplexF64[0.06996 + 0.0im, -0.09123 + 0.0im, 0.0 + 0.0im, 0.13182 + 0.0im, 0.0 + 0.0im, 0.0 + 0.0im, 0.0 + 0.0im, 0.0 + 0.0im, 0.0 + 0.0im]\n",
      "3.18412   ComplexF64[0.06996 + 0.0im, -0.0242 + 0.0im, 0.0 + 0.0im, 0.00757 + 0.0im, 0.0 + 0.0im, 0.0 + 0.0im, 0.0 + 0.0im, 0.0 + 0.0im, 0.0 + 0.0im]\n",
      "3.69501   ComplexF64[0.06996 + 0.0im, 0.05717 + 0.0im, 0.0 + 0.0im, -0.12927 + 0.0im, 0.0 + 0.0im, 0.0 + 0.0im, 0.0 + 0.0im, 0.0 + 0.0im, 0.0 + 0.0im]\n",
      "4.21802   ComplexF64[0.06996 + 0.0im, 0.11061 + 0.0im, 0.0 + 0.0im, -0.08553 + 0.0im, 0.0 + 0.0im, 0.0 + 0.0im, 0.0 + 0.0im, 0.0 + 0.0im, 0.0 + 0.0im]\n",
      "4.74544   ComplexF64[0.06996 + 0.0im, 0.10595 + 0.0im, 0.0 + 0.0im, 0.08162 + 0.0im, 0.0 + 0.0im, 0.0 + 0.0im, 0.0 + 0.0im, 0.0 + 0.0im, 0.0 + 0.0im]\n",
      "5.0   ComplexF64[0.06996 + 0.0im, 0.08214 + 0.0im, 0.0 + 0.0im, 0.13186 + 0.0im, 0.0 + 0.0im, 0.0 + 0.0im, 0.0 + 0.0im, 0.0 + 0.0im, 0.0 + 0.0im]\n"
     ]
    }
   ],
   "source": [
    "lmax = 2\n",
    "tmax = 5\n",
    "\n",
    "ts, us = solve_ode(lmax, tmax)\n",
    "\n",
    "# Display a fragment of sample data\n",
    "for (i, t) in enumerate(ts)\n",
    "    println(t, \"   \", us[i][1:2:end])\n",
    "end"
   ]
  },
  {
   "cell_type": "markdown",
   "metadata": {},
   "source": [
    "> **d)** Create a series of figures or a movie that shows how the solution $\\ f\\ $ evolves in time. Perform the simulation three times with different choices of $\\ l_{max}\\ $, and at least one of these with a small $\\ l_{max}\\ $ (e.g., $\\ l_{max}=4\\ $) to study the influence of the cut-off $\\ l_{max}\\ $."
   ]
  },
  {
   "cell_type": "markdown",
   "metadata": {},
   "source": [
    "Using the output of our ODE solver, we want to generate a list of all $\\ (f, \\theta, \\phi)\\ $ values for each time $\\ t$:"
   ]
  },
  {
   "cell_type": "code",
   "execution_count": 7,
   "metadata": {},
   "outputs": [
    {
     "data": {
      "text/plain": [
       "gather_data (generic function with 1 method)"
      ]
     },
     "metadata": {},
     "output_type": "display_data"
    }
   ],
   "source": [
    "function gather_data(ts, us, lmax)\n",
    "    # Isolate c_lm coefficients in each U matrix\n",
    "    n = round(Int, length(us[1])/2)\n",
    "    all_c_lms = [ u_t[1:n] for u_t in us ]\n",
    "\n",
    "    # Initialize plot ranges\n",
    "    n_vars = 20\n",
    "    θs = [ round(θ, digits=5) for θ in range(0, π, n_vars) ]\n",
    "    ϕs = [ round(ϕ, digits=5) for ϕ in range(0, 2*π, 2*n_vars) ]\n",
    "\n",
    "    # Create lists of θ and ϕ values to plot (i.e. with repetitions included)\n",
    "        # ex: [θ_1, θ_1, θ_1, θ_2, θ_2, θ_2] ; [ϕ_1, ϕ_2, ϕ_3, ϕ_1, ϕ_2, ϕ_3]\n",
    "    θs_toplot = vcat([ repeat([θ], 2*n_vars) for θ in θs ]...)\n",
    "    ϕs_toplot = repeat(ϕs, n_vars)\n",
    "    θ_ϕ_pairs = collect(zip(θs_toplot, ϕs_toplot))\n",
    "\n",
    "    # Generate matrix of f(t, θ, ϕ) values with structure M[(θ, ϕ), time]\n",
    "    f_vals_t(c_lms) = [ expand_f(c_lms, θ, ϕ, lmax) for (θ, ϕ) in θ_ϕ_pairs ]\n",
    "    all_f_vals = hcat([ f_vals_t(c_lms_t) for c_lms_t in all_c_lms ]...)\n",
    "\n",
    "    return θ_ϕ_pairs, all_f_vals\n",
    "end"
   ]
  },
  {
   "cell_type": "markdown",
   "metadata": {},
   "source": [
    "Finally, converting to cartesian coordinates, we can plot our sphere with its radius fluctuating as $\\ f(t,\\theta,\\phi)+1\\ $, where our unit sphere at $\\ f=0\\ $ is ensured with an offset of $\\ +1\\ $."
   ]
  },
  {
   "cell_type": "code",
   "execution_count": 8,
   "metadata": {},
   "outputs": [
    {
     "data": {
      "text/plain": [
       "data_at_time (generic function with 1 method)"
      ]
     },
     "metadata": {},
     "output_type": "display_data"
    }
   ],
   "source": [
    "function data_all_times(ts, us, lmax)\n",
    "    θ_ϕ_pairs, all_f_vals = gather_data(ts, us, lmax)\n",
    "\n",
    "    # Base coordinates for unit sphere\n",
    "    x0 = [ round(cos(ϕ)*sin(θ), digits=3) for (θ, ϕ) in θ_ϕ_pairs ]\n",
    "    y0 = [ round(sin(ϕ)*sin(θ), digits=3) for (θ, ϕ) in θ_ϕ_pairs ]\n",
    "    z0 = [ round(cos(p[1]), digits=3) for p in θ_ϕ_pairs ]\n",
    "\n",
    "    return all_f_vals, x0, y0, z0\n",
    "end\n",
    "\n",
    "function data_at_time(f_vals_t, x0, y0, z0)\n",
    "    # r = 1 + f(t, θ, ϕ)\n",
    "    x = real((f_vals_t .+ 1) .* x0)\n",
    "    y = real((f_vals_t .+ 1) .* y0)\n",
    "    z = real((f_vals_t .+ 1) .* z0)\n",
    "\n",
    "    return x, y, z\n",
    "end"
   ]
  },
  {
   "cell_type": "markdown",
   "metadata": {},
   "source": [
    "Now let's create a plot for each time step and turn them into an animation!"
   ]
  },
  {
   "cell_type": "code",
   "execution_count": 46,
   "metadata": {},
   "outputs": [],
   "source": [
    "lmax = 4\n",
    "tmax = 10\n",
    "\n",
    "ts, us = solve_ode(lmax, tmax)\n",
    "all_f_vals, x0, y0, z0 = data_all_times(ts, us, lmax);"
   ]
  },
  {
   "cell_type": "code",
   "execution_count": null,
   "metadata": {},
   "outputs": [],
   "source": [
    "anim = Animation()\n",
    "fps = 15\n",
    "\n",
    "for (i, t) in enumerate(ts)\n",
    "\n",
    "    f_vals_t = real(all_f_vals[:,i])\n",
    "    x, y, z = data_at_time(f_vals_t, x0, y0, z0)\n",
    "\n",
    "    plot(x, y, z, title=\"lmax = $(lmax)\\nfps = $(fps)\\nt = $(t)\", legend=false,\n",
    "        xlim=(-1.2, 1.2), ylim=(-1.2, 1.2), zlim=(-1.2, 1.2))\n",
    "    frame(anim)\n",
    "end\n",
    "\n",
    "gif(anim, fps=fps)"
   ]
  },
  {
   "cell_type": "markdown",
   "metadata": {},
   "source": [
    "(see external files for gifs with $\\ l_{max} = 4,\\ 10,\\ $ and $\\ 20$)"
   ]
  }
 ],
 "metadata": {
  "kernelspec": {
   "display_name": "Julia 1.10.1",
   "language": "julia",
   "name": "julia-1.10"
  },
  "language_info": {
   "file_extension": ".jl",
   "mimetype": "application/julia",
   "name": "julia",
   "version": "1.10.1"
  }
 },
 "nbformat": 4,
 "nbformat_minor": 2
}
